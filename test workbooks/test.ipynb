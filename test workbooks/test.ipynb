{
 "cells": [
  {
   "cell_type": "code",
   "execution_count": 3,
   "metadata": {},
   "outputs": [
    {
     "name": "stderr",
     "output_type": "stream",
     "text": [
      "load_ssl_context verify=True cert=None trust_env=True http2=False\n",
      "load_ssl_context verify=True cert=None trust_env=True http2=False\n",
      "load_ssl_context verify=True cert=None trust_env=True http2=False\n",
      "DEBUG:httpx:load_ssl_context verify=True cert=None trust_env=True http2=False\n",
      "load_verify_locations cafile='c:\\\\Users\\\\noepolak1\\\\Desktop\\\\gen-ai-trainings\\\\gen-ai-workshop-notebooks\\\\genai-venv\\\\lib\\\\site-packages\\\\certifi\\\\cacert.pem'\n",
      "load_verify_locations cafile='c:\\\\Users\\\\noepolak1\\\\Desktop\\\\gen-ai-trainings\\\\gen-ai-workshop-notebooks\\\\genai-venv\\\\lib\\\\site-packages\\\\certifi\\\\cacert.pem'\n",
      "load_verify_locations cafile='c:\\\\Users\\\\noepolak1\\\\Desktop\\\\gen-ai-trainings\\\\gen-ai-workshop-notebooks\\\\genai-venv\\\\lib\\\\site-packages\\\\certifi\\\\cacert.pem'\n",
      "DEBUG:httpx:load_verify_locations cafile='c:\\\\Users\\\\noepolak1\\\\Desktop\\\\gen-ai-trainings\\\\gen-ai-workshop-notebooks\\\\genai-venv\\\\lib\\\\site-packages\\\\certifi\\\\cacert.pem'\n",
      "load_ssl_context verify=True cert=None trust_env=True http2=False\n",
      "load_ssl_context verify=True cert=None trust_env=True http2=False\n",
      "load_ssl_context verify=True cert=None trust_env=True http2=False\n",
      "DEBUG:httpx:load_ssl_context verify=True cert=None trust_env=True http2=False\n",
      "load_verify_locations cafile='c:\\\\Users\\\\noepolak1\\\\Desktop\\\\gen-ai-trainings\\\\gen-ai-workshop-notebooks\\\\genai-venv\\\\lib\\\\site-packages\\\\certifi\\\\cacert.pem'\n",
      "load_verify_locations cafile='c:\\\\Users\\\\noepolak1\\\\Desktop\\\\gen-ai-trainings\\\\gen-ai-workshop-notebooks\\\\genai-venv\\\\lib\\\\site-packages\\\\certifi\\\\cacert.pem'\n",
      "load_verify_locations cafile='c:\\\\Users\\\\noepolak1\\\\Desktop\\\\gen-ai-trainings\\\\gen-ai-workshop-notebooks\\\\genai-venv\\\\lib\\\\site-packages\\\\certifi\\\\cacert.pem'\n",
      "DEBUG:httpx:load_verify_locations cafile='c:\\\\Users\\\\noepolak1\\\\Desktop\\\\gen-ai-trainings\\\\gen-ai-workshop-notebooks\\\\genai-venv\\\\lib\\\\site-packages\\\\certifi\\\\cacert.pem'\n",
      "DEBUG:openai._base_client:Request options: {'method': 'post', 'url': '/chat/completions', 'files': None, 'json_data': {'messages': [{'content': ' which are the wonders of the world', 'role': 'user'}], 'model': 'gpt-4.1-nano', 'n': 1, 'stream': False, 'temperature': 0.0}}\n",
      "DEBUG:openai._base_client:Sending HTTP Request: POST https://api.openai.com/v1/chat/completions\n",
      "DEBUG:httpcore.connection:connect_tcp.started host='api.openai.com' port=443 local_address=None timeout=None socket_options=None\n",
      "DEBUG:httpcore.connection:connect_tcp.complete return_value=<httpcore._backends.sync.SyncStream object at 0x000002C27A7C0A90>\n",
      "DEBUG:httpcore.connection:start_tls.started ssl_context=<ssl.SSLContext object at 0x000002C27A66B740> server_hostname='api.openai.com' timeout=None\n",
      "DEBUG:httpcore.connection:start_tls.complete return_value=<httpcore._backends.sync.SyncStream object at 0x000002C27A7C0A60>\n",
      "DEBUG:httpcore.http11:send_request_headers.started request=<Request [b'POST']>\n",
      "DEBUG:httpcore.http11:send_request_headers.complete\n",
      "DEBUG:httpcore.http11:send_request_body.started request=<Request [b'POST']>\n",
      "DEBUG:httpcore.http11:send_request_body.complete\n",
      "DEBUG:httpcore.http11:receive_response_headers.started request=<Request [b'POST']>\n",
      "DEBUG:httpcore.http11:receive_response_headers.complete return_value=(b'HTTP/1.1', 200, b'OK', [(b'Date', b'Fri, 16 May 2025 06:40:30 GMT'), (b'Content-Type', b'application/json'), (b'Transfer-Encoding', b'chunked'), (b'Connection', b'keep-alive'), (b'access-control-expose-headers', b'X-Request-ID'), (b'openai-organization', b'user-mylyaiifwuedktc7xqeyvo8k'), (b'openai-processing-ms', b'4559'), (b'openai-version', b'2020-10-01'), (b'x-envoy-upstream-service-time', b'4562'), (b'x-ratelimit-limit-requests', b'500'), (b'x-ratelimit-limit-tokens', b'200000'), (b'x-ratelimit-remaining-requests', b'499'), (b'x-ratelimit-remaining-tokens', b'199988'), (b'x-ratelimit-reset-requests', b'120ms'), (b'x-ratelimit-reset-tokens', b'3ms'), (b'x-request-id', b'req_0b130e6153133c87523d8de451509a1f'), (b'strict-transport-security', b'max-age=31536000; includeSubDomains; preload'), (b'cf-cache-status', b'DYNAMIC'), (b'Set-Cookie', b'__cf_bm=0utP6X8fE9rxcy.UT0bV38ihby6DG_vVV0DpW2zwPT4-1747377630-1.0.1.1-oUI42x.MPTnsZ.dtrat4R0_ecodny8TqWnTewl8A9Q7uVlFGM4zPieoOy.ThFCaXd3udKZlpVIlqBwPxzxVzHM8BeGMV1imcxSApm9O1SQg; path=/; expires=Fri, 16-May-25 07:10:30 GMT; domain=.api.openai.com; HttpOnly; Secure; SameSite=None'), (b'X-Content-Type-Options', b'nosniff'), (b'Set-Cookie', b'_cfuvid=EyXjxFG2RK7B6_aY7LFz.P5JICQ12BsLEED8pIG25z4-1747377630673-0.0.1.1-604800000; path=/; domain=.api.openai.com; HttpOnly; Secure; SameSite=None'), (b'Server', b'cloudflare'), (b'CF-RAY', b'9408e2312842c471-BLR'), (b'Content-Encoding', b'gzip'), (b'alt-svc', b'h3=\":443\"; ma=86400')])\n",
      "HTTP Request: POST https://api.openai.com/v1/chat/completions \"HTTP/1.1 200 OK\"\n",
      "HTTP Request: POST https://api.openai.com/v1/chat/completions \"HTTP/1.1 200 OK\"\n",
      "HTTP Request: POST https://api.openai.com/v1/chat/completions \"HTTP/1.1 200 OK\"\n",
      "INFO:httpx:HTTP Request: POST https://api.openai.com/v1/chat/completions \"HTTP/1.1 200 OK\"\n",
      "DEBUG:httpcore.http11:receive_response_body.started request=<Request [b'POST']>\n",
      "DEBUG:httpcore.http11:receive_response_body.complete\n",
      "DEBUG:httpcore.http11:response_closed.started\n",
      "DEBUG:httpcore.http11:response_closed.complete\n",
      "DEBUG:openai._base_client:HTTP Response: POST https://api.openai.com/v1/chat/completions \"200 OK\" Headers([('date', 'Fri, 16 May 2025 06:40:30 GMT'), ('content-type', 'application/json'), ('transfer-encoding', 'chunked'), ('connection', 'keep-alive'), ('access-control-expose-headers', 'X-Request-ID'), ('openai-organization', 'user-mylyaiifwuedktc7xqeyvo8k'), ('openai-processing-ms', '4559'), ('openai-version', '2020-10-01'), ('x-envoy-upstream-service-time', '4562'), ('x-ratelimit-limit-requests', '500'), ('x-ratelimit-limit-tokens', '200000'), ('x-ratelimit-remaining-requests', '499'), ('x-ratelimit-remaining-tokens', '199988'), ('x-ratelimit-reset-requests', '120ms'), ('x-ratelimit-reset-tokens', '3ms'), ('x-request-id', 'req_0b130e6153133c87523d8de451509a1f'), ('strict-transport-security', 'max-age=31536000; includeSubDomains; preload'), ('cf-cache-status', 'DYNAMIC'), ('set-cookie', '__cf_bm=0utP6X8fE9rxcy.UT0bV38ihby6DG_vVV0DpW2zwPT4-1747377630-1.0.1.1-oUI42x.MPTnsZ.dtrat4R0_ecodny8TqWnTewl8A9Q7uVlFGM4zPieoOy.ThFCaXd3udKZlpVIlqBwPxzxVzHM8BeGMV1imcxSApm9O1SQg; path=/; expires=Fri, 16-May-25 07:10:30 GMT; domain=.api.openai.com; HttpOnly; Secure; SameSite=None'), ('x-content-type-options', 'nosniff'), ('set-cookie', '_cfuvid=EyXjxFG2RK7B6_aY7LFz.P5JICQ12BsLEED8pIG25z4-1747377630673-0.0.1.1-604800000; path=/; domain=.api.openai.com; HttpOnly; Secure; SameSite=None'), ('server', 'cloudflare'), ('cf-ray', '9408e2312842c471-BLR'), ('content-encoding', 'gzip'), ('alt-svc', 'h3=\":443\"; ma=86400')])\n",
      "DEBUG:openai._base_client:request_id: req_0b130e6153133c87523d8de451509a1f\n"
     ]
    },
    {
     "name": "stdout",
     "output_type": "stream",
     "text": [
      "content='The Wonders of the World typically refer to remarkable constructions or natural features celebrated for their historical, cultural, or natural significance. They are often categorized into the \"Seven Wonders of the Ancient World\" and the \"New Seven Wonders of the World.\" \\n\\n**Seven Wonders of the Ancient World:**\\n1. **Great Pyramid of Giza (Egypt)** – The oldest and only surviving ancient wonder.\\n2. **Hanging Gardens of Babylon (Iraq)** – Legendary terraced gardens, their existence remains debated.\\n3. **Statue of Zeus at Olympia (Greece)** – A massive gold and ivory statue of Zeus.\\n4. **Temple of Artemis at Ephesus (Turkey)** – A grand temple dedicated to the goddess Artemis.\\n5. **Mausoleum at Halicarnassus (Turkey)** – An elaborate tomb for Mausolus.\\n6. **Colossus of Rhodes (Greece)** – A giant bronze statue guarding the harbor.\\n7. **Lighthouse of Alexandria (Egypt)** – A towering lighthouse guiding sailors.\\n\\n**New Seven Wonders of the World (chosen in 2007 through a global poll):**\\n1. **Great Wall of China (China)**\\n2. **Petra (Jordan)**\\n3. **Christ the Redeemer in Rio de Janeiro (Brazil)**\\n4. **Machu Picchu (Peru)**\\n5. **Chichen Itza (Mexico)**\\n6. **Roman Colosseum (Italy)**\\n7. **Taj Mahal (India)**\\n\\nThese lists highlight some of the most iconic and celebrated landmarks around the world.' additional_kwargs={'refusal': None} response_metadata={'token_usage': {'completion_tokens': 322, 'prompt_tokens': 14, 'total_tokens': 336, 'completion_tokens_details': {'accepted_prediction_tokens': 0, 'audio_tokens': 0, 'reasoning_tokens': 0, 'rejected_prediction_tokens': 0}, 'prompt_tokens_details': {'audio_tokens': 0, 'cached_tokens': 0}}, 'model_name': 'gpt-4.1-nano-2025-04-14', 'system_fingerprint': 'fp_eede8f0d45', 'finish_reason': 'stop', 'logprobs': None} id='run--d16fe868-8b4b-4b6c-b784-9c5ccd766499-0' usage_metadata={'input_tokens': 14, 'output_tokens': 322, 'total_tokens': 336, 'input_token_details': {'audio': 0, 'cache_read': 0}, 'output_token_details': {'audio': 0, 'reasoning': 0}}\n"
     ]
    }
   ],
   "source": [
    "\n",
    "import os\n",
    "from langchain.llms import AzureOpenAI\n",
    "\n",
    "import httpx\n",
    "import logging\n",
    "\n",
    "logging.basicConfig(level=logging.DEBUG)\n",
    "httpx_log = logging.getLogger(\"httpx\")\n",
    "httpx_log.setLevel(logging.DEBUG)\n",
    "httpx_log.addHandler(logging.StreamHandler())\n",
    "from dotenv import load_dotenv\n",
    "from langchain_openai import ChatOpenAI, OpenAI\n",
    "from dotenv import load_dotenv\n",
    "load_dotenv(override=True)\n",
    "llm = ChatOpenAI(model=\"gpt-4.1-nano\", temperature=0)\n",
    "\n",
    "response = llm.invoke(\" which are the wonders of the world\"   )\n",
    "\n",
    "print(response)\n"
   ]
  }
 ],
 "metadata": {
  "kernelspec": {
   "display_name": "genai-venv",
   "language": "python",
   "name": "python3"
  },
  "language_info": {
   "codemirror_mode": {
    "name": "ipython",
    "version": 3
   },
   "file_extension": ".py",
   "mimetype": "text/x-python",
   "name": "python",
   "nbconvert_exporter": "python",
   "pygments_lexer": "ipython3",
   "version": "3.10.5"
  }
 },
 "nbformat": 4,
 "nbformat_minor": 2
}
